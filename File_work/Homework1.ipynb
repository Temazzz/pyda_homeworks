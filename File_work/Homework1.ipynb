{
 "cells": [
  {
   "cell_type": "markdown",
   "metadata": {},
   "source": [
    "1. Переведите содержимое файла purchase_log.txt в словарь purchases вида:\n",
    "{‘1840e0b9d4’: ‘Продукты’, …}"
   ]
  },
  {
   "cell_type": "code",
   "execution_count": 1,
   "metadata": {},
   "outputs": [],
   "source": [
    "import json"
   ]
  },
  {
   "cell_type": "code",
   "execution_count": 9,
   "metadata": {},
   "outputs": [
    {
     "name": "stdout",
     "output_type": "stream",
     "text": [
      "кол-во покупателей: 99999\n"
     ]
    }
   ],
   "source": [
    "pur_final = dict()\n",
    "i = 0\n",
    "with open('purchase_log.txt', 'r', encoding = 'utf-8') as f:\n",
    "    next(f)\n",
    "    for line in f:\n",
    "        line = line.strip()\n",
    "        pur = json.loads(line)\n",
    "        pur_final[pur['user_id']] = pur['category'] \n",
    "        i += 1\n",
    "print(f'кол-во покупателей: {i}')"
   ]
  },
  {
   "cell_type": "markdown",
   "metadata": {},
   "source": [
    "2. Для каждого user_id в файле visit_log.csv определите третий столбец с категорией покупки (если покупка была, сам файл visit_log.csv изменять не надо). Запишите в файл funnel.csv визиты из файла visit_log.csv, в которых были покупки с указанием категории.\n",
    "Учтите условия на данные:\n",
    "содержимое purchase_log.txt помещается в оперативную память компьютера\n",
    "содержимое visit_log.csv - нет; используйте только построчную обработку этого файла"
   ]
  },
  {
   "cell_type": "code",
   "execution_count": 7,
   "metadata": {},
   "outputs": [
    {
     "name": "stdout",
     "output_type": "stream",
     "text": [
      "Количество покупателей: 13798\n"
     ]
    }
   ],
   "source": [
    "x = 0\n",
    "with open('visit_log.csv', 'r', encoding = 'utf-8') as f2:\n",
    "    with open('funnel.csv', 'w') as ff:\n",
    "        next(f2)\n",
    "        ff.write('user_id,source,category\\n')\n",
    "        for line in f2:\n",
    "            line = line.strip().split(',')\n",
    "            if pur_final.get(line[0]) != None and line[0] != None:\n",
    "                ff.write(f'{line[0]},{line[1]},{pur_final.get(line[0])}\\n')\n",
    "                x += 1\n",
    "print(f'Количество покупателей: {x}')"
   ]
  }
 ],
 "metadata": {
  "kernelspec": {
   "display_name": "Python 3",
   "language": "python",
   "name": "python3"
  },
  "language_info": {
   "codemirror_mode": {
    "name": "ipython",
    "version": 3
   },
   "file_extension": ".py",
   "mimetype": "text/x-python",
   "name": "python",
   "nbconvert_exporter": "python",
   "pygments_lexer": "ipython3",
   "version": "3.8.3"
  }
 },
 "nbformat": 4,
 "nbformat_minor": 4
}
