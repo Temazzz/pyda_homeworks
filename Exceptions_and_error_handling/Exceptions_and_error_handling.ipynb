{
 "cells": [
  {
   "cell_type": "markdown",
   "metadata": {},
   "source": [
    "# Задание 1\n",
    "Печатные газеты использовали свой формат дат для каждого выпуска. Для каждой газеты из списка напишите формат указанной даты для перевода в объект datetime:\n",
    "The Moscow Times - Wednesday, October 2, 2002\n",
    "The Guardian - Friday, 11.10.13\n",
    "Daily News - Thursday, 18 August 1977"
   ]
  },
  {
   "cell_type": "code",
   "execution_count": 13,
   "metadata": {},
   "outputs": [
    {
     "name": "stdout",
     "output_type": "stream",
     "text": [
      "2002-10-02 00:00:00\n",
      "2013-10-11 00:00:00\n",
      "1977-08-18 00:00:00\n"
     ]
    }
   ],
   "source": [
    "# The Moscow Times - Wednesday, October 2, 2002\n",
    "# The Guardian - Friday, 11.10.13\n",
    "# Daily News - Thursday, 18 August 1977\n",
    "\n",
    "the_moscow_times = 'Wednesday, October 2, 2002'\n",
    "the_guardian = 'Friday, 11.10.13'\n",
    "daily_times = 'Thursday, 18 August 1977'\n",
    "\n",
    "from datetime import datetime\n",
    "\n",
    "the_mt_date = datetime.strptime(the_moscow_times, '%A, %B %d, %Y')\n",
    "the_g_date = datetime.strptime(the_guardian, '%A, %d.%m.%y')\n",
    "dt_date = datetime.strptime(daily_times, '%A, %d %B %Y')\n",
    "\n",
    "print(the_mt_date)\n",
    "print(the_g_date)\n",
    "print(dt_date)"
   ]
  },
  {
   "cell_type": "markdown",
   "metadata": {},
   "source": [
    "# Задание 2\n",
    "Дан поток дат в формате YYYY-MM-DD, в которых встречаются некорректные значения:\n",
    "stream = [‘2018-04-02’, ‘2018-02-29’, ‘2018-19-02’]\n",
    "\n",
    "Напишите функцию, которая проверяет эти даты на корректность. Т. е. для каждой даты возвращает True (дата корректна) или False (некорректная дата)."
   ]
  },
  {
   "cell_type": "code",
   "execution_count": 38,
   "metadata": {},
   "outputs": [
    {
     "name": "stdout",
     "output_type": "stream",
     "text": [
      "2018-04-02 True\n",
      "2018-02-29 False\n",
      "2018-19-02 False\n"
     ]
    }
   ],
   "source": [
    "stream = ['2018-04-02', '2018-02-29', '2018-19-02']\n",
    "\n",
    "from datetime import datetime\n",
    "\n",
    "for result in stream:\n",
    "    try:\n",
    "        if datetime.strptime(result, '%Y-%m-%d'):\n",
    "            print(f'{result} True')\n",
    "    except:\n",
    "            print(f'{result} False')"
   ]
  },
  {
   "cell_type": "markdown",
   "metadata": {},
   "source": [
    "# Задание 3\n",
    "Напишите функцию date_range, которая возвращает список дат за период от start_date до end_date. Даты должны вводиться в формате YYYY-MM-DD. В случае неверного формата или при start_date > end_date должен возвращаться пустой список."
   ]
  },
  {
   "cell_type": "code",
   "execution_count": 13,
   "metadata": {},
   "outputs": [
    {
     "name": "stdout",
     "output_type": "stream",
     "text": [
      "Введите начальную дату в формате YYYY-MM-DD: 2020-01-01\n",
      "Введите конечную дату в формате YYYY-MM-DD: 2020-01-10\n"
     ]
    },
    {
     "data": {
      "text/plain": [
       "['2020-01-01',\n",
       " '2020-01-02',\n",
       " '2020-01-03',\n",
       " '2020-01-04',\n",
       " '2020-01-05',\n",
       " '2020-01-06',\n",
       " '2020-01-07',\n",
       " '2020-01-08',\n",
       " '2020-01-09',\n",
       " '2020-01-10']"
      ]
     },
     "execution_count": 13,
     "metadata": {},
     "output_type": "execute_result"
    }
   ],
   "source": [
    "# start_date = '2020-01-01'\n",
    "# end_date = '2020-01-10'\n",
    "\n",
    "from datetime import datetime\n",
    "from datetime import timedelta\n",
    "\n",
    "start_date = input('Введите начальную дату в формате YYYY-MM-DD: ')\n",
    "end_date = input('Введите конечную дату в формате YYYY-MM-DD: ')\n",
    "\n",
    "def date_range(sd_dt, ed_dt):\n",
    "    dates = []\n",
    "    try:\n",
    "        sd_dt = datetime.strptime(start_date, '%Y-%m-%d')\n",
    "        ed_dt = datetime.strptime(end_date, '%Y-%m-%d')\n",
    "    except ValueError:\n",
    "        print('Неверный формат даты')\n",
    "    while sd_dt <= ed_dt:\n",
    "        dates.append(datetime.strftime(sd_dt, '%Y-%m-%d'))\n",
    "        sd_dt += timedelta(days=1)\n",
    "    return dates\n",
    "date_range(sd_dt, ed_dt)"
   ]
  },
  {
   "cell_type": "markdown",
   "metadata": {},
   "source": [
    "### Задание 4 (бонусное)\n",
    "Задание:\n",
    "\n",
    "    1.Что значит ошибка list index out of range?\n",
    "    2.Почему при первом запуске функция работает корректно, а при втором - нет?\n"
   ]
  },
  {
   "cell_type": "markdown",
   "metadata": {},
   "source": [
    "Ответы:\n",
    "    1. list index out of range означает, что питон пробует обратиться к определенному индексу, но его не существует и поэтому выводится данная ошибка - индекс списка вне допустимого диапазона;\n",
    "    2. Данная ошибка означает, что при удалении айди пользователя произошла переиндексация списка, и следовательно, при повторном запросе индекса данного айди питон не может найти данный индекс, т.к. его уже не существует."
   ]
  }
 ],
 "metadata": {
  "kernelspec": {
   "display_name": "Python 3",
   "language": "python",
   "name": "python3"
  },
  "language_info": {
   "codemirror_mode": {
    "name": "ipython",
    "version": 3
   },
   "file_extension": ".py",
   "mimetype": "text/x-python",
   "name": "python",
   "nbconvert_exporter": "python",
   "pygments_lexer": "ipython3",
   "version": "3.8.3"
  }
 },
 "nbformat": 4,
 "nbformat_minor": 4
}
